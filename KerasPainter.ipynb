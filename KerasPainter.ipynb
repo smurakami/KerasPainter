{
 "cells": [
  {
   "cell_type": "code",
   "execution_count": null,
   "metadata": {},
   "outputs": [],
   "source": [
    "import numpy as np\n",
    "import keras\n",
    "from PIL import Image\n",
    "from IPython.display import display"
   ]
  },
  {
   "cell_type": "markdown",
   "metadata": {},
   "source": [
    "# Train models"
   ]
  },
  {
   "cell_type": "code",
   "execution_count": 11,
   "metadata": {},
   "outputs": [],
   "source": [
    "from keras.layers import Dense, Input\n",
    "import os\n",
    "from itertools import product\n",
    "\n",
    "\n",
    "def get_training_data(img):\n",
    "    s = img.shape[0]\n",
    "    indices = np.array(list(product(range(s), range(s))))\n",
    "    rgb = img[indices[:, 0], indices[:, 1]]\n",
    "    pos = indices.astype(float) / s - 0.5\n",
    "    rgb = rgb / 255.0\n",
    "\n",
    "    x_data = pos\n",
    "    y_data = rgb\n",
    "\n",
    "    return x_data, y_data\n",
    "\n",
    "\n",
    "def train(filename):\n",
    "    print(filename)\n",
    "\n",
    "    name = os.path.basename(filename)\n",
    "    name, _ = os.path.splitext(name)\n",
    "    w = 224\n",
    "\n",
    "    img = np.array(Image.open(filename).convert(\"RGB\").resize((w, w), Image.BILINEAR))\n",
    "\n",
    "\n",
    "    x_data, y_data = get_training_data(img)\n",
    "\n",
    "    model = keras.models.Sequential()\n",
    "    model.add(Dense(20, activation='relu', input_shape=(2, ))) # 1\n",
    "    model.add(Dense(20, activation='relu')) # 2\n",
    "    model.add(Dense(20, activation='relu')) # 3\n",
    "    model.add(Dense(20, activation='relu')) # 4\n",
    "    model.add(Dense(20, activation='relu')) # 5\n",
    "    model.add(Dense(20, activation='relu')) # 6\n",
    "    model.add(Dense(20, activation='relu')) # 7\n",
    "    model.add(Dense(20, activation='relu')) # 8\n",
    "    model.add(Dense(3, activation='sigmoid')) # 9\n",
    "\n",
    "    model.compile(optimizer='adam', loss='mse')\n",
    "    \n",
    "    class Callback(keras.callbacks.Callback):\n",
    "        def on_epoch_end(self, epoch, logs={}):\n",
    "            if epoch % 50 == 0:\n",
    "                img = model.predict(x_data, batch_size=1024)\n",
    "                img = img.reshape((w, w, 3))\n",
    "                img = Image.fromarray((img * 255.).astype(np.uint8))\n",
    "                display(img)\n",
    "    \n",
    "\n",
    "    model.fit(x_data, y_data, epochs=1000, shuffle=True, batch_size=1024, callbacks=[Callback()])\n",
    "    model.save('models/{}.h5'.format(name))        "
   ]
  },
  {
   "cell_type": "code",
   "execution_count": 15,
   "metadata": {},
   "outputs": [],
   "source": [
    "from glob import glob\n",
    "for filename in sorted(glob('./images/*')):\n",
    "    print(filename)\n",
    "    train(filename)\n",
    "    test(filename, [3, 7], resize=4)    "
   ]
  },
  {
   "cell_type": "markdown",
   "metadata": {},
   "source": [
    "# Generate Image"
   ]
  },
  {
   "cell_type": "code",
   "execution_count": 5,
   "metadata": {},
   "outputs": [],
   "source": [
    "import keras.backend as K\n",
    "from keras.layers.merge import Add\n",
    "from keras.layers import Dense, Lambda\n",
    "from keras.models import Model\n",
    "from itertools import product\n",
    "\n",
    "def test(filename, drop_layers, resize=1):\n",
    "    name = os.path.basename(filename)\n",
    "    name, _ = os.path.splitext(name)\n",
    "    w = 224\n",
    "    \n",
    "    input_pos = Input(shape=(2, ))\n",
    "    input_drop = Input(shape=(9, ))\n",
    "\n",
    "    x = input_pos\n",
    "\n",
    "    def blend(index):\n",
    "        def _blend(args):\n",
    "            x, y, rate_ = args\n",
    "            rate = rate_[:, index:index+1]\n",
    "            return x * rate + y * (1 - rate)\n",
    "        return _blend\n",
    "\n",
    "    # skip layers\n",
    "    def layer(x, input_drop, output_length, index):   \n",
    "        y = Dense(output_length, activation='relu')(x)\n",
    "        return Lambda(blend(index))([x, y, input_drop])\n",
    "\n",
    "    x = Dense(20, activation='relu')(x)\n",
    "    x = layer(x, input_drop, 20, 1)\n",
    "    x = layer(x, input_drop, 20, 2)\n",
    "    x = layer(x, input_drop, 20, 3)\n",
    "    x = layer(x, input_drop, 20, 4)\n",
    "    x = layer(x, input_drop, 20, 5)\n",
    "    x = layer(x, input_drop, 20, 6)\n",
    "    x = layer(x, input_drop, 20, 7)\n",
    "    x = Dense(3, activation='sigmoid')(x)\n",
    "\n",
    "    model = Model(inputs=[input_pos, input_drop], outputs=[x])        \n",
    "    model.load_weights('models/{}_190816.h5'.format(name))\n",
    "\n",
    "    s = w * resize\n",
    "    pos = np.array(list(product(range(s), range(s))))\n",
    "    pos = pos / s - 0.5\n",
    "    drop_rate = np.zeros((len(pos), 9))\n",
    "    \n",
    "    for i in drop_layers:    \n",
    "        print(\"drop_index:\", i)\n",
    "        drop_rate[:, i] = 1.0\n",
    "    \n",
    "    img = model.predict([pos, drop_rate], batch_size=1024)\n",
    "    img = img.reshape((s, s, 3))\n",
    "    img = Image.fromarray((img * 255.).astype(np.uint8))\n",
    "\n",
    "    display(img)\n",
    "    img.save('./results/{}_190816.png'.format(name))    \n",
    "\n"
   ]
  },
  {
   "cell_type": "code",
   "execution_count": 16,
   "metadata": {},
   "outputs": [],
   "source": [
    "from glob import glob\n",
    "for filename in sorted(glob('./images/background/*')):\n",
    "    test(filename, [3, 7], resize=4)    "
   ]
  }
 ],
 "metadata": {
  "kernelspec": {
   "display_name": "Python 3",
   "language": "python",
   "name": "python3"
  },
  "language_info": {
   "codemirror_mode": {
    "name": "ipython",
    "version": 3
   },
   "file_extension": ".py",
   "mimetype": "text/x-python",
   "name": "python",
   "nbconvert_exporter": "python",
   "pygments_lexer": "ipython3",
   "version": "3.6.8"
  }
 },
 "nbformat": 4,
 "nbformat_minor": 2
}
